{
 "cells": [
  {
   "cell_type": "code",
   "execution_count": 1,
   "metadata": {},
   "outputs": [],
   "source": [
    "import pandas as pd"
   ]
  },
  {
   "cell_type": "code",
   "execution_count": 2,
   "metadata": {},
   "outputs": [
    {
     "name": "stdout",
     "output_type": "stream",
     "text": [
      "           Country  Year\n",
      "0        Australia  1960\n",
      "1        Australia  1961\n",
      "2        Australia  1962\n",
      "3        Australia  1963\n",
      "4        Australia  1964\n",
      "...            ...   ...\n",
      "3271  South Africa  2018\n",
      "3272  South Africa  2019\n",
      "3273  South Africa  2020\n",
      "3274  South Africa  2021\n",
      "3275  South Africa  2022\n",
      "\n",
      "[3276 rows x 2 columns]\n"
     ]
    }
   ],
   "source": [
    "countries = ['Australia', 'Austria', 'Belgium', 'Canada', 'Chile', 'Colombia', 'Costa Rica', 'Czechia', 'Denmark', 'Estonia', 'Finland', 'France', 'Germany', 'Greece', 'Hungary', 'Iceland', 'Ireland', 'Israel', 'Italy', 'Japan', 'Korea', 'Latvia', 'Lithuania', 'Luxembourg', 'Mexico', 'Netherlands', 'New Zealand', 'Norway', 'Poland', 'Portugal', 'Slovak Republic', 'Slovenia', 'Spain', 'Sweden', 'Switzerland', 'Türkiye', 'United Kingdom', 'United States', 'European Union – 27 countries (from 01/02/2020)', 'Euro area (20 countries)', 'G7', 'OECD - Europe', 'G20', 'OECD - Total', 'Argentina', 'Brazil', 'China (People\\'s Republic of)', 'India', 'Indonesia', 'Russia', 'Saudi Arabia', 'South Africa']\n",
    "\n",
    "years = range(1960, 2023)\n",
    "\n",
    "data = []\n",
    "for country in countries:\n",
    "    for year in years:\n",
    "        data.append([country, year])\n",
    "\n",
    "df = pd.DataFrame(data, columns=['Country', 'Year'])\n",
    "print(df)\n"
   ]
  },
  {
   "cell_type": "code",
   "execution_count": 3,
   "metadata": {},
   "outputs": [],
   "source": [
    "df.to_excel('thesisdata.xlsx', index=False)"
   ]
  }
 ],
 "metadata": {
  "kernelspec": {
   "display_name": "gt",
   "language": "python",
   "name": "python3"
  },
  "language_info": {
   "codemirror_mode": {
    "name": "ipython",
    "version": 3
   },
   "file_extension": ".py",
   "mimetype": "text/x-python",
   "name": "python",
   "nbconvert_exporter": "python",
   "pygments_lexer": "ipython3",
   "version": "3.9.17"
  }
 },
 "nbformat": 4,
 "nbformat_minor": 2
}
